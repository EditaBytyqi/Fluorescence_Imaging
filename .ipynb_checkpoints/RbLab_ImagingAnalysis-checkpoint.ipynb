{
 "cells": [
  {
   "cell_type": "markdown",
   "id": "1f1a3f11",
   "metadata": {},
   "source": [
    "## Fluorescence Imaging Analysis"
   ]
  },
  {
   "cell_type": "markdown",
   "id": "576ea164",
   "metadata": {},
   "source": [
    "This notebook is used for analysis of fluorescence images, such as determining loading of tweezer traps.\\\n",
    "There are a few considerations to keep in mind when developing this code:\n",
    " - speed (Harvard atom array can determine trap loading within 1ms; C++ is much faster than Python so we may use that eventually; numpy operations >> for loops)\n",
    " - generality (don't assume a specific size for the images since this will likely change)\n",
    " \n",
    "We want to set ROIs (regions of interest) of ~9 pixels (Harvard array) and get the pixel sum of this ROI. We will experimentally develop a threshold which determines whether there is an atom in the ROI or not. \n",
    " - if ROI_brightness > threshold --> atom\n",
    " - if ROI_brightness < threshold --> no atom"
   ]
  },
  {
   "cell_type": "markdown",
   "id": "78bab075",
   "metadata": {},
   "source": [
    "### Import packages"
   ]
  },
  {
   "cell_type": "code",
   "execution_count": null,
   "id": "42fdd31c",
   "metadata": {},
   "outputs": [],
   "source": [
    "import h5py\n",
    "import timeit # use to measure code speed\n",
    "import numpy as np\n",
    "import matplotlib.pyplot as plt\n",
    "from skimage.measure import block_reduce\n",
    "from PIL import Image\n",
    "import matplotlib.patches as patches # only need this to visualize ROI"
   ]
  },
  {
   "cell_type": "markdown",
   "id": "2f33e9ee",
   "metadata": {},
   "source": [
    "### Plot images"
   ]
  },
  {
   "cell_type": "code",
   "execution_count": null,
   "id": "f78aeee9",
   "metadata": {},
   "outputs": [],
   "source": [
    "# path to image file\n",
    "path = 'sample_images\\\\2022-02-25_0025_take_a_picture_0.h5'"
   ]
  },
  {
   "cell_type": "code",
   "execution_count": null,
   "id": "0e690ea0",
   "metadata": {},
   "outputs": [],
   "source": [
    "# open file\n",
    "f = h5py.File(path, 'r')"
   ]
  },
  {
   "cell_type": "code",
   "execution_count": null,
   "id": "ab4d3121",
   "metadata": {},
   "outputs": [],
   "source": [
    "# extract image data\n",
    "atom = np.array(f['images']['camera']['absorption']['atoms'])\n",
    "back = np.array(f['images']['camera']['absorption']['background'])\n",
    "beam = np.array(f['images']['camera']['absorption']['beam'])"
   ]
  },
  {
   "cell_type": "code",
   "execution_count": null,
   "id": "7554571b",
   "metadata": {},
   "outputs": [],
   "source": [
    "# create figure\n",
    "fig = plt.figure(figsize=(10, 7))\n",
    "  \n",
    "# setting values to rows and column variables\n",
    "rows = 1\n",
    "columns = 3\n",
    "  \n",
    "# Adds a subplot at the 1st position\n",
    "fig.add_subplot(rows, columns, 1)\n",
    "  \n",
    "# showing image\n",
    "plt.imshow(atom)\n",
    "plt.axis()\n",
    "plt.title(\"Atom\")\n",
    "  \n",
    "# Adds a subplot at the 2nd position\n",
    "fig.add_subplot(rows, columns, 2)\n",
    "  \n",
    "# showing image\n",
    "plt.imshow(back)\n",
    "plt.axis()\n",
    "plt.title(\"Background\")\n",
    "  \n",
    "# Adds a subplot at the 3rd position\n",
    "fig.add_subplot(rows, columns, 3)\n",
    "  \n",
    "# showing image\n",
    "plt.imshow(beam)\n",
    "plt.axis()\n",
    "plt.title(\"Beam\")"
   ]
  },
  {
   "cell_type": "markdown",
   "id": "6959749a",
   "metadata": {},
   "source": [
    "### Plot ROI (Region Of Interest)"
   ]
  },
  {
   "cell_type": "markdown",
   "id": "293f4a56",
   "metadata": {},
   "source": [
    "For starters we can set the ROI to be a square (30x30 pixels, exaggerated for visualization) at the top left corner (x0,y0 = 0,0)"
   ]
  },
  {
   "cell_type": "code",
   "execution_count": null,
   "id": "d433b663",
   "metadata": {
    "scrolled": true
   },
   "outputs": [],
   "source": [
    "# Create figure and axes\n",
    "fig, ax = plt.subplots()\n",
    "\n",
    "# Display the image\n",
    "ax.imshow(atom)\n",
    "\n",
    "# Create a Rectangle patch\n",
    "# matplotlib.patches.Rectangle(xy, width, height, angle=0.0, **kwargs)\n",
    "rect = patches.Rectangle((0, 0), 30, 30, linewidth=2, edgecolor='r', facecolor='none')\n",
    "\n",
    "# Add the patch to the Axes\n",
    "ax.add_patch(rect)\n",
    "\n",
    "plt.title(\"Atom\")\n",
    "plt.show()"
   ]
  },
  {
   "cell_type": "markdown",
   "id": "cb511174",
   "metadata": {},
   "source": [
    "# Image Analysis"
   ]
  },
  {
   "cell_type": "markdown",
   "id": "f7ef6ed8",
   "metadata": {},
   "source": [
    "Define ROI function which takes the inputs:\n",
    " -  image: array type\n",
    " -  x0,y0: xy coordinates of top left corner\n",
    " -  dx: width\n",
    " -  dy: length\\\n",
    "and returns the sum of pixel values across the ROI"
   ]
  },
  {
   "cell_type": "markdown",
   "id": "66303e29",
   "metadata": {},
   "source": [
    "https://jakevdp.github.io/PythonDataScienceHandbook/02.07-fancy-indexing.html"
   ]
  },
  {
   "cell_type": "code",
   "execution_count": null,
   "id": "60b72b8e",
   "metadata": {},
   "outputs": [],
   "source": [
    "def ROI (image,x0,y0,dx,dy):\n",
    "    \n",
    "    # set ROI\n",
    "    ROI = image[x0:x0+dx,y0:y0+dy]\n",
    "    \n",
    "    return ROI # single array"
   ]
  },
  {
   "cell_type": "code",
   "execution_count": null,
   "id": "350cf07d",
   "metadata": {},
   "outputs": [],
   "source": [
    "def mROI(image,XY0,dX,dY): # all inputs are arrays. XY0: tuples giving top left corner of ROI; dX: ROI widths; dY: ROI lengths\n",
    "    \n",
    "    mROI = []\n",
    "    for i in range (XY0.shape[0]):\n",
    "        mROI.append(ROI(image, XY0[i][0], XY0[i][1], dX[i], dY[i]))\n",
    "    \n",
    "    m = np.array(mROI)\n",
    "    \n",
    "    return m # "
   ]
  },
  {
   "cell_type": "code",
   "execution_count": null,
   "id": "7069a30f",
   "metadata": {},
   "outputs": [],
   "source": [
    "def occupancy_matrix (image,XY0,dX,dY,threshold,atom_array_size): #threshold is pixel brightness TBD experimentally\n",
    "    \n",
    "    m = mROI(image,XY0,dX,dY)\n",
    "    pxl_sum = block_reduce(m, block_size=(1,m.shape[1],m.shape[2]), func=np.sum)\n",
    "    \n",
    "    for i, pxl in enumerate(pxl_sum):\n",
    "        if pxl[0][0] > threshold:\n",
    "            pxl[0][0] = 1\n",
    "        else:\n",
    "            pxl[0][0] = 0\n",
    "    \n",
    "    occ_matrix = pxl_sum.reshape(atom_array_size)\n",
    "    \n",
    "    return occ_matrix    "
   ]
  },
  {
   "cell_type": "markdown",
   "id": "dacaf5bc",
   "metadata": {},
   "source": [
    "### Example"
   ]
  },
  {
   "cell_type": "code",
   "execution_count": null,
   "id": "92d0d729",
   "metadata": {},
   "outputs": [],
   "source": [
    "XY0 = np.array([(1,3),(6,12),(10,0),(20,5),(59,25),(150,2),(0,20),(15,25),(56,30),(70,35),(120,40),(130,45),(150,26),(60,100),(75,120),(90,132),(104,150),(160,170),(125,250),(98,98)])\n",
    "dX = np.ones(20,dtype='int')*3\n",
    "dY = np.ones(20,dtype='int')*3\n",
    "mtx = occupancy_matrix (atom,XY0,dX,dY,3500,(5,4))\n",
    "plt.imshow(mtx)\n",
    "plt.colorbar()\n",
    "mtx"
   ]
  },
  {
   "cell_type": "markdown",
   "id": "5a142a81",
   "metadata": {},
   "source": [
    "## Benchmarking the function"
   ]
  },
  {
   "cell_type": "code",
   "execution_count": null,
   "id": "d967dbd6",
   "metadata": {},
   "outputs": [],
   "source": [
    "setup = '''\n",
    "from __main__ import ROI, mROI, occupancy_matrix\n",
    "import numpy as np\n",
    "from skimage.measure import block_reduce\n",
    "'''\n",
    "code = '''\n",
    "atom = np.arange(170*300).reshape(170,300)\n",
    "XY0 = np.array([(1,3),(6,12),(10,0),(20,5),(59,25),(150,2),(0,20),(15,25),(56,30),(70,35),(120,40),(130,45),(150,26),(60,100),(75,120),(90,132),(104,150),(160,170),(125,250),(98,98)])\n",
    "dX = np.ones(20,dtype='int')+3\n",
    "dY = np.ones(20,dtype='int')+3\n",
    "occupancy_matrix(atom,XY0,dX,dY,3400, (4,5))\n",
    "'''\n",
    "reps = 10000\n",
    "t = timeit.timeit(code, setup,number=reps)/reps*1e6\n",
    "print(\"It takes {:.2f} us to calculate occupancy matrix.\".format(t))"
   ]
  },
  {
   "cell_type": "markdown",
   "id": "eb232a8d",
   "metadata": {},
   "source": [
    " -  run example of realistic sized array (300x300 pixels) with ~20 ROIs and check how fast (slow) it is\n",
    "     - define ROIs via for loop inside function\n",
    "     vs\n",
    "     - define ROIs before running function\n",
    " - define ROIs using for loops (v0.0)\n",
    " - compare to convolution/kernel methods of scipy packages for image processing\n",
    " - retry fancy indexing to get 2 ROIs\n",
    " - compare results and timing of all methods"
   ]
  },
  {
   "cell_type": "code",
   "execution_count": null,
   "id": "8ae1bb38",
   "metadata": {},
   "outputs": [],
   "source": [
    "# from scipy import ndimage\n",
    "# ndimage.convolve(a, k,origin=)"
   ]
  },
  {
   "cell_type": "markdown",
   "id": "d9c4f38a",
   "metadata": {},
   "source": [
    "New method: compare each pixel value within the ROI to a threshold, then sum the digital 1s and 0s to get a value for the matrix element."
   ]
  },
  {
   "cell_type": "code",
   "execution_count": null,
   "id": "556ee851",
   "metadata": {},
   "outputs": [],
   "source": [
    "def occupancy_matrix (image,XY0,dX,dY,threshold,atom_array_size): #threshold is pixel brightness TBD experimentally\n",
    "    \n",
    "    m = mROI(image,XY0,dX,dY)\n",
    "    #pxl_sum = block_reduce(m, block_size=(1,m.shape[1],m.shape[2]), func=np.sum)\n",
    "    \n",
    "    for roi in m:\n",
    "        for i, pxl in enumerate(roi):\n",
    "            if roi[0][0] > threshold:\n",
    "                pxl[0][0] = 1\n",
    "            else:\n",
    "                pxl[0][0] = 0\n",
    "    \n",
    "    occ_matrix = pxl_sum.reshape(atom_array_size)\n",
    "    \n",
    "    return occ_matrix"
   ]
  },
  {
   "cell_type": "code",
   "execution_count": null,
   "id": "c67d6199",
   "metadata": {},
   "outputs": [],
   "source": [
    "m.shape"
   ]
  }
 ],
 "metadata": {
  "kernelspec": {
   "display_name": "Python 3 (ipykernel)",
   "language": "python",
   "name": "python3"
  },
  "language_info": {
   "codemirror_mode": {
    "name": "ipython",
    "version": 3
   },
   "file_extension": ".py",
   "mimetype": "text/x-python",
   "name": "python",
   "nbconvert_exporter": "python",
   "pygments_lexer": "ipython3",
   "version": "3.9.7"
  }
 },
 "nbformat": 4,
 "nbformat_minor": 5
}
