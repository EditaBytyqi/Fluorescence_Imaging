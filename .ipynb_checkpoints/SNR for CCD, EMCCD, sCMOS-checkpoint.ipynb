{
 "cells": [
  {
   "cell_type": "markdown",
   "id": "7999f75b",
   "metadata": {},
   "source": [
    "## Calculating SNR for fluorescence imaging cameras (CCD, EMCCD, sCMOS)"
   ]
  },
  {
   "cell_type": "markdown",
   "id": "96bb6e1f",
   "metadata": {},
   "source": [
    "Total scattering rate:\\\n",
    "$$\\gamma_p = \\frac{\\Gamma}{2}\\frac{s_0}{1+s_0+4\\delta^2/\\Gamma^2}$$\\\n",
    "$$P_{scat} = \\frac{\\gamma_p hc}{\\lambda}$$\n",
    "\n",
    "$\\Gamma$ - natural linewidth\\\n",
    "$s_o = \\frac{I}{I_{sat}}$\\\n",
    "$\\delta$ - laser detuning\\\n",
    "h - Planck's constant\\\n",
    "$\\lambda$ - transition wavelength"
   ]
  },
  {
   "cell_type": "markdown",
   "id": "9efb8877",
   "metadata": {},
   "source": [
    "Signal-to-noise ratio:\n",
    "$$SNR = \\frac{P\\cdot Q_e\\cdot t}{\\sqrt{P\\cdot Q_e\\cdot t + D\\cdot t + N_r^2}}$$\n",
    "\n",
    "t - exposure time\\\n",
    "P - photon flux\\\n",
    "D - dark current\\\n",
    "$N_r$ - dark noise\\\n",
    "$Q_e$ - quantum efficiency"
   ]
  },
  {
   "cell_type": "markdown",
   "id": "a62789fa",
   "metadata": {},
   "source": [
    "### Constants"
   ]
  },
  {
   "cell_type": "code",
   "execution_count": null,
   "id": "1479419f",
   "metadata": {},
   "outputs": [],
   "source": [
    "import numpy as np"
   ]
  },
  {
   "cell_type": "code",
   "execution_count": null,
   "id": "afd6a0ec",
   "metadata": {},
   "outputs": [],
   "source": [
    "d = 200e-3   # distance between atoms and CCD (focal length of the lens ~ 2cm)\n",
    "# P_scat = 2.42623e-12     # power scattered by a single atom \n",
    "h = 6.62606876e-34\n",
    "hbar = h/(2*np.pi)\n",
    "c = 2.99792458e8\n",
    "wvl = 780e-9\n",
    "freq = c/wvl\n",
    "gamma = 38.11e6   # per second\n",
    "I_sat = 30.5       # [W/m^2] saturation intensity for F=2 --> F' = 3 cycling transition, linearly polarized light"
   ]
  },
  {
   "cell_type": "code",
   "execution_count": null,
   "id": "b7866cfd",
   "metadata": {},
   "outputs": [],
   "source": [
    "P_scat = gamma*h*c/4/wvl\n",
    "P_scat"
   ]
  },
  {
   "cell_type": "code",
   "execution_count": null,
   "id": "dc2dcf70",
   "metadata": {},
   "outputs": [],
   "source": [
    "P_scat = h*freq*gamma/4/I_sat\n",
    "P_scat"
   ]
  },
  {
   "cell_type": "code",
   "execution_count": null,
   "id": "a3c6ba10",
   "metadata": {},
   "outputs": [],
   "source": [
    "def SNR (P,Qe,t, D, Nr): # calculate SNR given parameters\n",
    "    return P*Qe*t/np.sqrt(P*Qe*t+D*t+Nr**2)\n",
    "\n",
    "def P(pxl_sa): # calculate photon flux for a single Rb-87 atom\n",
    "    return P_scat*pxl_sa/(h*freq*4*np.pi)\n",
    "    \n",
    "def pxl_sa(A,d): # pixel solid angle\n",
    "    return A/d**2"
   ]
  },
  {
   "cell_type": "code",
   "execution_count": null,
   "id": "0897cc1b",
   "metadata": {},
   "outputs": [],
   "source": [
    "#integration time (exposure time)\n",
    "t = 20e-3 \n",
    "\n",
    "#pixel area\n",
    "pxl_A = (4.6e-6)**2  \n",
    "\n",
    "\n",
    "#quantum efficiency\n",
    "Qe = 0.55\n",
    "\n",
    "#dark current\n",
    "D = 0.016\n",
    "\n",
    "#read noise\n",
    "Nr = 0.43\n",
    "\n",
    "solid_angle = pxl_sa(pxl_A,d)\n",
    "photon_flux = P(solid_angle)\n",
    "SNR_ = SNR(photon_flux, Qe, t, D, Nr)\n",
    "\n",
    "print(\"SNR for this camera is: {}\".format(SNR_))"
   ]
  }
 ],
 "metadata": {
  "kernelspec": {
   "display_name": "Python 3 (ipykernel)",
   "language": "python",
   "name": "python3"
  },
  "language_info": {
   "codemirror_mode": {
    "name": "ipython",
    "version": 3
   },
   "file_extension": ".py",
   "mimetype": "text/x-python",
   "name": "python",
   "nbconvert_exporter": "python",
   "pygments_lexer": "ipython3",
   "version": "3.9.7"
  }
 },
 "nbformat": 4,
 "nbformat_minor": 5
}
