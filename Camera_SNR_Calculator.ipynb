{
 "cells": [
  {
   "cell_type": "markdown",
   "metadata": {},
   "source": [
    "# Signal to Noise Ratio of a Camera"
   ]
  },
  {
   "cell_type": "code",
   "execution_count": 2,
   "metadata": {},
   "outputs": [],
   "source": [
    "import numpy as np"
   ]
  },
  {
   "cell_type": "markdown",
   "metadata": {},
   "source": [
    "## Introduction"
   ]
  },
  {
   "cell_type": "markdown",
   "metadata": {},
   "source": [
    "Cameras have several noise sources, which each contribute to the overall camera noise differently depending on the imaging parameters. The main sources of noise are read noise, $N_r$, (a fixed noise contribution) and dark noise, $D$, (shot noise that you can average down with longer exposure times). \n",
    "\n",
    "The signal is determined by the properties of the object being imaged and collection efficiency, of the optics and camera. The collection efficiency is calculated by multiplying the collection efficiency of the optics (i.e. the fraction of solid angle of light collected) with the quantum efficiency of the detector. The quantum efficiency of a detector is a measure of what fraction incident photons are converted into electrons at the sensor through the photoelectric effect. The collection efficiency of the optics is related to the NA of the lens system. The object being imaged in our application is a fluorescing Rb87 atom, so we must make certain assumptions about the light incident on the atom, such as power and wavelength. Typically, to make our lives easier, we assume the light is on resonance with the F=2-->F'=3 transition in the $D_2$ line and that we are at saturation intensity.\n",
    "\n",
    "With all these parameters taken into account, we can then calculate the signal with the below formula:\n",
    "\n",
    "$$SNR=\\frac{PQ_et}{\\sqrt{PQ_et+Dt+N_r^2}}$$"
   ]
  },
  {
   "cell_type": "markdown",
   "metadata": {},
   "source": [
    "## Fundamental Constants"
   ]
  },
  {
   "cell_type": "code",
   "execution_count": 3,
   "metadata": {},
   "outputs": [],
   "source": [
    "hbar = 1.0545718*10**-34 #m^2*kg/s, Planck's constant\n",
    "h = hbar*2*np.pi #m^2*kg/s\n",
    "c = 3*10^8 #m/s, speed of light"
   ]
  },
  {
   "cell_type": "markdown",
   "metadata": {},
   "source": [
    "## Atom Properties, Rb87"
   ]
  },
  {
   "cell_type": "code",
   "execution_count": 4,
   "metadata": {},
   "outputs": [],
   "source": [
    "I_sat = 30.5 #W/m^2, saturation intensity of Rb87\n",
    "lamb = 780*10**-9 #m\n",
    "omega = 2*np.pi*c/lamb #Rb87 D2 resonance\n",
    "f=c/lamb\n",
    "Gamma = 38.11*10**6 #Rb87 decay rate\n",
    "sigma = hbar*omega*Gamma/(2*I_sat) #m^2, scattering cross section\n",
    "P_scat = I_sat*sigma #amount of power scattered by one Rb87 atom at saturation, on resonance"
   ]
  },
  {
   "cell_type": "markdown",
   "metadata": {},
   "source": [
    "## Detector Properties"
   ]
  },
  {
   "cell_type": "markdown",
   "metadata": {},
   "source": [
    "The numbers below are taken from the PCO Pixelfly USB camera in Rb lab, pre-2022."
   ]
  },
  {
   "cell_type": "code",
   "execution_count": 45,
   "metadata": {},
   "outputs": [],
   "source": [
    "Q_e=0.55 #quantum efficiency\n",
    "D=0.016  #e-/pixel/s, dark current\n",
    "N_r=0.43 #e-/pixel, read noise"
   ]
  },
  {
   "cell_type": "markdown",
   "metadata": {},
   "source": [
    "## Optical Collection"
   ]
  },
  {
   "cell_type": "code",
   "execution_count": 46,
   "metadata": {},
   "outputs": [],
   "source": [
    "num_pixels=21.7**2 #how many photons is the image of the atom focused onto? This will depend on the pixel size and magnification of your optical system\n",
    "t=20*10**-3 #s, exposure time\n",
    "radius=12.7e-2 #m, collection lens radius\n",
    "focal=28.54e-2 #m, collection lens focal distance\n",
    "thetalens = np.pi*(radius)**2/(focal)**2 #steradians, solid angle of light collection\n",
    "\n",
    "P = P_scat*thetalens/(num_pixels*h*f*4*np.pi) #photons/pixel/second "
   ]
  },
  {
   "cell_type": "markdown",
   "metadata": {},
   "source": [
    "## Signal to Noise"
   ]
  },
  {
   "cell_type": "code",
   "execution_count": 47,
   "metadata": {},
   "outputs": [
    {
     "name": "stdout",
     "output_type": "stream",
     "text": [
      "4.674586795012059\n"
     ]
    }
   ],
   "source": [
    "SNR=P*Q_e*t/(np.sqrt(P*Q_e*t+D*t+N_r**2))\n",
    "print(SNR)"
   ]
  },
  {
   "cell_type": "code",
   "execution_count": null,
   "metadata": {},
   "outputs": [],
   "source": []
  }
 ],
 "metadata": {
  "kernelspec": {
   "display_name": "Python 3 (ipykernel)",
   "language": "python",
   "name": "python3"
  },
  "language_info": {
   "codemirror_mode": {
    "name": "ipython",
    "version": 3
   },
   "file_extension": ".py",
   "mimetype": "text/x-python",
   "name": "python",
   "nbconvert_exporter": "python",
   "pygments_lexer": "ipython3",
   "version": "3.9.7"
  }
 },
 "nbformat": 4,
 "nbformat_minor": 4
}
